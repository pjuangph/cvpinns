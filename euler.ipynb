{
 "cells": [
  {
   "cell_type": "code",
   "execution_count": 4,
   "metadata": {},
   "outputs": [],
   "source": [
    "import numpy as np\n",
    "import tensorflow as tf\n",
    "import matplotlib.pylab as plt\n",
    "import scipy.special\n",
    "import scipy.optimize\n",
    "import itertools\n",
    "import imp\n",
    "\n",
    "import cvpinns\n",
    "imp.reload(cvpinns)\n",
    "\n",
    "tf.keras.backend.set_floatx(\"float64\")"
   ]
  },
  {
   "cell_type": "code",
   "execution_count": 5,
   "metadata": {},
   "outputs": [],
   "source": [
    "#analytical solution, 1 rarefaction, 3 shock\n",
    "def sod(xt,Ul,Ur,gamma=1.4):\n",
    "    rhol,jl,El = Ul\n",
    "    rhor,jr,Er = Ur\n",
    "    \n",
    "    ul = jl/rhol\n",
    "    ur = jr/rhor\n",
    "    pl = (gamma-1.)*(El-.5*rhol*ul**2)\n",
    "    pr = (gamma-1.)*(Er-.5*rhor*ur**2)\n",
    "    \n",
    "    cl = np.sqrt(gamma*pl/rhol)\n",
    "    cr = np.sqrt(gamma*pr/rhor)\n",
    "\n",
    "    def phil(p):\n",
    "        if p<=pl:\n",
    "            u = ul + 2*cl/(gamma-1) * (1.-(p/pl)**((gamma-1)/(2*gamma)))\n",
    "        else:\n",
    "            u = ul + (2*cl/np.sqrt(2*gamma*(gamma-1)) \n",
    "                      * (1.-p/pl)/np.sqrt(1+p/pl * (gamma+1)/(gamma-1)))\n",
    "        return u\n",
    "\n",
    "    def phir(p):\n",
    "        if p<=pr:\n",
    "            u = ur - 2*cr/(gamma-1) * (1.-(p/pr)**((gamma-1)/(2*gamma)))\n",
    "        else:\n",
    "            u = ur - (2*cr/np.sqrt(2*gamma*(gamma-1))\n",
    "                      * (1.-p/pr)/np.sqrt(1+p/pr * (gamma+1)/(gamma-1)))\n",
    "        return u\n",
    "\n",
    "    def phi(p):\n",
    "        return phir(p) - phil(p)\n",
    "\n",
    "    ps = scipy.optimize.root_scalar(phi,x0=pr,x1=pl).root\n",
    "    us = phil(ps)\n",
    "    rhosr = ((1 + (gamma+1)/(gamma-1) * ps/pr)\n",
    "                     / (ps/pr + (gamma+1)/(gamma-1)) * rhor)\n",
    "    rhosl = (ps/pl)**(1./gamma)*rhol\n",
    "    \n",
    "    s = (rhosr * us - rhor*ur)/(rhosr - rhor)\n",
    "\n",
    "    csl = np.sqrt(gamma*ps/rhosl)\n",
    "    laml = ul - cl\n",
    "    lamsl = us - csl\n",
    "    xtr = np.reshape(xt,(np.prod(xt.shape[0:-1]),2))\n",
    "\n",
    "    u = np.zeros((xtr.shape[0],3))\n",
    "    \n",
    "    for i,xti in enumerate(xtr):\n",
    "        if xti[0]<1e-12:\n",
    "            if xti[1]<0:\n",
    "                rho = rhol\n",
    "                v = ul\n",
    "                p = pl\n",
    "            else:\n",
    "                rho = rhor\n",
    "                v = ur\n",
    "                p = pr\n",
    "        else:                \n",
    "            xi = xti[1]/xti[0]\n",
    "            if xi <= laml:\n",
    "                rho = rhol\n",
    "                v = ul\n",
    "                p = pl\n",
    "            elif xi > laml and xi <= lamsl:\n",
    "                v = ((gamma-1)*ul + 2*(cl+xi))/(gamma+1)\n",
    "                rho = (rhol**gamma*(v-xi)**2/(gamma*pl))**(1./(gamma-1))\n",
    "                p = (pl/rhol**gamma)*rho**gamma\n",
    "            elif xi > lamsl and xi <= us:\n",
    "                rho = rhosl\n",
    "                v = us\n",
    "                p = ps\n",
    "            elif xi > us and xi <= s:\n",
    "                rho = rhosr\n",
    "                v = us\n",
    "                p = ps\n",
    "            else:\n",
    "                rho = rhor\n",
    "                v = ur\n",
    "                p = pr\n",
    "        \n",
    "        u[i,0] = rho\n",
    "        u[i,1] = rho*v\n",
    "        u[i,2] = p/(gamma-1) + .5*rho*v**2\n",
    "    return np.reshape(u,xt.shape[0:-1]+(3,))"
   ]
  },
  {
   "cell_type": "code",
   "execution_count": null,
   "metadata": {},
   "outputs": [],
   "source": [
    "#domain\n",
    "L = [[0,1],[-2.5,2.5]]\n",
    "\n",
    "#grid size\n",
    "nx =[128,128]\n",
    "\n",
    "\n",
    "#left and right states\n",
    "Ul = [3.,0,3./.4]\n",
    "Ur = [1.,0.,1./.4]\n",
    "\n",
    "#compute analytical solution\n",
    "x_data = np.transpose(np.mgrid[L[0][0]:L[0][1]:nx[0]*1j,\n",
    "                               L[1][0]:L[1][1]:nx[1]*1j],(1,2,0))\n",
    "u_data = sod(x_data,Ul,Ur)"
   ]
  },
  {
   "cell_type": "code",
   "execution_count": 8,
   "metadata": {},
   "outputs": [],
   "source": [
    "#quadrature specification. 3 segment composite trapezoid\n",
    "pts=4\n",
    "xi = np.linspace(-1,1,pts)\n",
    "wi = np.array([1.] + [2. for _ in range(pts-2)] + [1.])\n",
    "wi = 2.*wi/sum(wi)\n",
    "\n",
    "\n",
    "quad = {'0':(xi,wi),'1':(xi,wi)}"
   ]
  },
  {
   "cell_type": "code",
   "execution_count": 9,
   "metadata": {},
   "outputs": [
    {
     "name": "stdout",
     "output_type": "stream",
     "text": [
      "Metal device set to: Apple M1 Pro\n",
      "\n",
      "systemMemory: 16.00 GB\n",
      "maxCacheSize: 5.33 GB\n",
      "\n"
     ]
    },
    {
     "name": "stderr",
     "output_type": "stream",
     "text": [
      "2022-04-12 11:42:03.738805: I tensorflow/core/common_runtime/pluggable_device/pluggable_device_factory.cc:305] Could not identify NUMA node of platform GPU ID 0, defaulting to 0. Your kernel may not have been built with NUMA support.\n",
      "2022-04-12 11:42:03.738926: I tensorflow/core/common_runtime/pluggable_device/pluggable_device_factory.cc:271] Created TensorFlow device (/job:localhost/replica:0/task:0/device:GPU:0 with 0 MB memory) -> physical PluggableDevice (device: 0, name: METAL, pci bus id: <undefined>)\n"
     ]
    }
   ],
   "source": [
    "#neural network for solution, x->u\n",
    "width = 64\n",
    "depth = 8\n",
    "dimi = 2\n",
    "dimo = 3\n",
    "act = tf.nn.relu\n",
    "u = tf.keras.Sequential(\n",
    "                 [tf.keras.layers.Dense(width,activation=act,\n",
    "                                input_shape=(None,dimi),dtype=tf.float64)]\n",
    "                +[tf.keras.layers.Dense(width,activation=act,\n",
    "                                dtype=tf.float64) for _ in range(depth-1)]\n",
    "                +[tf.keras.layers.Dense(dimo,dtype=tf.float64,use_bias=False)]\n",
    "               )\n",
    "\n",
    "#neural network for EOS, (rho,e)->s\n",
    "width = 4\n",
    "depth = 4\n",
    "dimi = 2\n",
    "dimo = 1\n",
    "act = tf.nn.tanh\n",
    "EOS2 = tf.keras.Sequential(\n",
    "                 [tf.keras.layers.Dense(width,activation=act,\n",
    "                                input_shape=(None,dimi),dtype=tf.float64)]\n",
    "                +[tf.keras.layers.Dense(width,activation=act,\n",
    "                                dtype=tf.float64) for _ in range(depth-1)]\n",
    "                +[tf.keras.layers.Dense(dimo,dtype=tf.float64,use_bias=False)]\n",
    "               )\n",
    "EOS = lambda u: EOS2(u) + tf.expand_dims(u[...,1],-1)\n",
    "EOS.variables = EOS2.variables"
   ]
  },
  {
   "cell_type": "code",
   "execution_count": 10,
   "metadata": {},
   "outputs": [],
   "source": [
    "#extracts (rho,e) from u\n",
    "@tf.function\n",
    "def getrhoe(uxi):\n",
    "    return tf.stack([uxi[...,0],tf.math.divide_no_nan(uxi[...,2],uxi[...,0])\n",
    "                     - 0.5*tf.math.divide_no_nan(uxi[...,1],uxi[...,0])**2],-1)\n",
    "\n",
    "#computes pressure via EOS\n",
    "@tf.function\n",
    "def getp(rhoe):\n",
    "    with tf.GradientTape() as g:\n",
    "        g.watch(rhoe)\n",
    "        s = EOS(rhoe)\n",
    "        ss = tf.reduce_sum(s)\n",
    "\n",
    "    J = g.gradient(ss,rhoe)\n",
    "    p = -rhoe[...,0]**2*tf.math.divide_no_nan(J[...,0],J[...,1])\n",
    "    return p"
   ]
  },
  {
   "cell_type": "code",
   "execution_count": 11,
   "metadata": {},
   "outputs": [],
   "source": [
    "#PDE for euler equations\n",
    "\n",
    "#initial condition\n",
    "@tf.function\n",
    "def IC(x):\n",
    "    return tf.expand_dims(tf.cast(x[...,1]< 0,tf.float64),-1)*Ul \\\n",
    "          +tf.expand_dims(tf.cast(x[...,1]>=0,tf.float64),-1)*Ur\n",
    "\n",
    "#left boundary condition\n",
    "@tf.function\n",
    "def BCl(x):\n",
    "    return tf.ones(x.shape[0:-1]+[1],tf.float64)*Ul\n",
    "\n",
    "#right boundary condition\n",
    "@tf.function\n",
    "def BCr(x):\n",
    "    return tf.ones(x.shape[0:-1]+[1],tf.float64)*Ur\n",
    "\n",
    "#flux in x direction\n",
    "@tf.function\n",
    "def F1(ux):\n",
    "    p = getp(getrhoe(ux))\n",
    "    return tf.stack([\n",
    "                ux[...,1],\n",
    "                tf.math.divide_no_nan(ux[...,1]**2,ux[...,0]) + p,\n",
    "                (ux[...,2] + p) * tf.math.divide_no_nan(ux[...,1],ux[...,0])\n",
    "                ],-1)\n",
    "\n",
    "#flux in t direction\n",
    "F0 = lambda ux:ux\n",
    "\n",
    "euler = cvpinns.PDE(L,nx,quad,F0,F1,IC,BCl,BCr,u)"
   ]
  },
  {
   "cell_type": "code",
   "execution_count": 12,
   "metadata": {},
   "outputs": [],
   "source": [
    "#PDIE for entropy inequality\n",
    "\n",
    "@tf.function\n",
    "def Q0(ux):\n",
    "    s = EOS(getrhoe(ux))\n",
    "    return -tf.expand_dims(ux[...,0],-1)*s\n",
    "\n",
    "@tf.function\n",
    "def Q1(ux):\n",
    "    s = EOS(getrhoe(ux))\n",
    "    return -tf.expand_dims(ux[...,1],-1)*s\n",
    "\n",
    "\n",
    "euler_ent = cvpinns.PDE(L,nx,quad,Q0,Q1,IC,BCl,BCr,u)"
   ]
  },
  {
   "cell_type": "code",
   "execution_count": 13,
   "metadata": {},
   "outputs": [],
   "source": [
    "#total variation dimishing penalty\n",
    "@tf.function\n",
    "def getTVDp():\n",
    "    ux = euler.u(euler.x)\n",
    "    TV = tf.reduce_sum(euler.dx[1]*tf.abs(ux[:,1::]-ux[:,0:-1]),1)\n",
    "    TVDp = tf.reduce_sum(euler.dx[0]*tf.nn.relu(TV[1::]-TV[0:-1])**2)\n",
    "    return TVDp"
   ]
  },
  {
   "cell_type": "code",
   "execution_count": 14,
   "metadata": {},
   "outputs": [],
   "source": [
    "#thermodynamics penalty\n",
    "rhoe_thermp = tf.transpose(np.mgrid[0.5:3.5:100j,1.5:3.5:100j],(1,2,0))\n",
    "@tf.function\n",
    "def getThermop():\n",
    "    with tf.GradientTape(persistent=True) as g2:\n",
    "        g2.watch(rhoe_thermp)\n",
    "        with tf.GradientTape() as g:\n",
    "            g.watch(rhoe_thermp)\n",
    "            sS = tf.reduce_sum(EOS(rhoe_thermp))\n",
    "        ds = g.gradient(sS,rhoe_thermp)\n",
    "        dsdrho = ds[...,0]\n",
    "        dsde = ds[...,1]\n",
    "        dsdeS = tf.reduce_sum(dsde)\n",
    "        rho2dsdrhos = tf.reduce_sum(rhoe_thermp[...,0]**2*dsdrho)\n",
    "    d2sd2e = g2.gradient(dsdeS,rhoe_thermp)[...,1]\n",
    "    drho2dsdrhos = g2.gradient(rho2dsdrhos,rhoe_thermp)[...,0]\n",
    "    return tf.reduce_mean(tf.nn.relu(drho2dsdrhos)**2\n",
    "                          + tf.nn.relu(d2sd2e)**2 + tf.nn.relu(-dsde)**2)"
   ]
  },
  {
   "cell_type": "code",
   "execution_count": 15,
   "metadata": {},
   "outputs": [],
   "source": [
    "#combines loss terms\n",
    "@tf.function\n",
    "def getLoss():\n",
    "    return (\n",
    "                tf.reduce_sum(euler.getRES()**2)\n",
    "              + tf.reduce_sum(tf.nn.relu(euler_ent.getRES())**2)\n",
    "              + getTVDp()\n",
    "              + tf.reduce_mean((u(x_data)-u_data)**2)/10\n",
    "              + 1000*getThermop()\n",
    "            )"
   ]
  },
  {
   "cell_type": "code",
   "execution_count": 16,
   "metadata": {},
   "outputs": [],
   "source": [
    "#fit EOS to data\n",
    "def train(lr,iters):\n",
    "    #Optimizer\n",
    "    opt = tf.keras.optimizers.Adam(learning_rate=lr)\n",
    "\n",
    "    #optimize loss over u and EOS\n",
    "    varlist = u.variables + EOS.variables\n",
    "\n",
    "    #training function\n",
    "    @tf.function\n",
    "    def GD():\n",
    "        with tf.GradientTape() as g:\n",
    "            loss = getLoss()\n",
    "        G = g.gradient(loss,varlist)\n",
    "        opt.apply_gradients(zip(G,varlist))\n",
    "        \n",
    "    for i in range(iters):\n",
    "        GD()\n",
    "        if not(i%100):\n",
    "            print('iter:',i,'Loss:',getLoss().numpy())        "
   ]
  },
  {
   "cell_type": "code",
   "execution_count": 17,
   "metadata": {
    "scrolled": true
   },
   "outputs": [
    {
     "name": "stdout",
     "output_type": "stream",
     "text": [
      "stage 1\n"
     ]
    },
    {
     "ename": "InvalidArgumentError",
     "evalue": "Cannot assign a device for operation Adam/Adam/update/ResourceApplyAdam: Could not satisfy explicit device specification '/job:localhost/replica:0/task:0/device:GPU:0' because no supported kernel for GPU devices is available.\nColocation Debug Info:\nColocation group had the following types and supported devices: \nRoot Member(assigned_device_name_index_=2 requested_device_name_='/job:localhost/replica:0/task:0/device:GPU:0' assigned_device_name_='/job:localhost/replica:0/task:0/device:GPU:0' resource_device_name_='/job:localhost/replica:0/task:0/device:GPU:0' supported_device_types_=[CPU] possible_devices_=[]\nReadVariableOp: GPU CPU \nIdentity: GPU CPU \nResourceApplyAdam: CPU \n_Arg: GPU CPU \n\nColocation members, user-requested devices, and framework assigned devices, if any:\n  unknown_2 (_Arg)  framework assigned device=/job:localhost/replica:0/task:0/device:GPU:0\n  adam_adam_update_resourceapplyadam_m (_Arg)  framework assigned device=/job:localhost/replica:0/task:0/device:GPU:0\n  adam_adam_update_resourceapplyadam_v (_Arg)  framework assigned device=/job:localhost/replica:0/task:0/device:GPU:0\n  Adam/Adam/update/ResourceApplyAdam (ResourceApplyAdam) /job:localhost/replica:0/task:0/device:GPU:0\n  Func/StatefulPartitionedCall/input/_3 (Identity) /job:localhost/replica:0/task:0/device:GPU:0\n  StatefulPartitionedCall/sequential/dense/Tensordot/ReadVariableOp (ReadVariableOp) \n  Func/StatefulPartitionedCall/output/_720 (Identity) \n  Func/PartitionedCall/input/_1400 (Identity) \n  Func/StatefulPartitionedCall/StatefulPartitionedCall/input/_1437 (Identity) /job:localhost/replica:0/task:0/device:GPU:0\n  StatefulPartitionedCall/StatefulPartitionedCall/sequential/dense/Tensordot/ReadVariableOp (ReadVariableOp) \n  StatefulPartitionedCall/StatefulPartitionedCall/sequential/dense/Tensordot_1/ReadVariableOp (ReadVariableOp) \n  Func/StatefulPartitionedCall/StatefulPartitionedCall/output/_1711 (Identity) \n  Func/StatefulPartitionedCall/StatefulPartitionedCall/output/_1713 (Identity) \n  Func/StatefulPartitionedCall/StatefulPartitionedCall_1/input/_1728 (Identity) /job:localhost/replica:0/task:0/device:GPU:0\n  StatefulPartitionedCall/StatefulPartitionedCall_1/sequential/dense/Tensordot/ReadVariableOp (ReadVariableOp) \n  StatefulPartitionedCall/StatefulPartitionedCall_1/sequential/dense/Tensordot_1/ReadVariableOp (ReadVariableOp) \n  Func/StatefulPartitionedCall/StatefulPartitionedCall_1/output/_2005 (Identity) \n  Func/StatefulPartitionedCall/StatefulPartitionedCall_1/output/_2007 (Identity) \n  Func/StatefulPartitionedCall/StatefulPartitionedCall_2/input/_2010 (Identity) /job:localhost/replica:0/task:0/device:GPU:0\n  StatefulPartitionedCall/StatefulPartitionedCall_2/sequential/dense/Tensordot/ReadVariableOp (ReadVariableOp) \n  Func/StatefulPartitionedCall/StatefulPartitionedCall_2/output/_2059 (Identity) \n\nOp: ResourceApplyAdam\nNode attrs: use_locking=true, T=DT_DOUBLE, _class=[\"loc:@11378\"], use_nesterov=false\nRegistered kernels:\n  device='GPU'; T in [DT_FLOAT]\n  device='CPU'; T in [DT_HALF]\n  device='CPU'; T in [DT_BFLOAT16]\n  device='CPU'; T in [DT_FLOAT]\n  device='CPU'; T in [DT_DOUBLE]\n  device='CPU'; T in [DT_COMPLEX64]\n  device='CPU'; T in [DT_COMPLEX128]\n\n\t [[{{node Adam/Adam/update/ResourceApplyAdam}}]] [Op:__inference_GD_12358]",
     "output_type": "error",
     "traceback": [
      "\u001b[0;31m---------------------------------------------------------------------------\u001b[0m",
      "\u001b[0;31mInvalidArgumentError\u001b[0m                      Traceback (most recent call last)",
      "\u001b[1;32m/Users/pjuangph/Documents/GitHub/cvpinns/euler.ipynb Cell 13'\u001b[0m in \u001b[0;36m<cell line: 2>\u001b[0;34m()\u001b[0m\n\u001b[1;32m      <a href='vscode-notebook-cell:/Users/pjuangph/Documents/GitHub/cvpinns/euler.ipynb#ch0000012?line=0'>1</a>\u001b[0m \u001b[39mprint\u001b[39m(\u001b[39m'\u001b[39m\u001b[39mstage 1\u001b[39m\u001b[39m'\u001b[39m)\n\u001b[0;32m----> <a href='vscode-notebook-cell:/Users/pjuangph/Documents/GitHub/cvpinns/euler.ipynb#ch0000012?line=1'>2</a>\u001b[0m train(\u001b[39m1e-2\u001b[39;49m,\u001b[39m2000\u001b[39;49m)\n\u001b[1;32m      <a href='vscode-notebook-cell:/Users/pjuangph/Documents/GitHub/cvpinns/euler.ipynb#ch0000012?line=2'>3</a>\u001b[0m \u001b[39mprint\u001b[39m(\u001b[39m'\u001b[39m\u001b[39m\\n\u001b[39;00m\u001b[39mstage 2\u001b[39m\u001b[39m'\u001b[39m)\n\u001b[1;32m      <a href='vscode-notebook-cell:/Users/pjuangph/Documents/GitHub/cvpinns/euler.ipynb#ch0000012?line=3'>4</a>\u001b[0m train(\u001b[39m1e-3\u001b[39m,\u001b[39m20000\u001b[39m)\n",
      "\u001b[1;32m/Users/pjuangph/Documents/GitHub/cvpinns/euler.ipynb Cell 12'\u001b[0m in \u001b[0;36mtrain\u001b[0;34m(lr, iters)\u001b[0m\n\u001b[1;32m     <a href='vscode-notebook-cell:/Users/pjuangph/Documents/GitHub/cvpinns/euler.ipynb#ch0000011?line=14'>15</a>\u001b[0m     opt\u001b[39m.\u001b[39mapply_gradients(\u001b[39mzip\u001b[39m(G,varlist))\n\u001b[1;32m     <a href='vscode-notebook-cell:/Users/pjuangph/Documents/GitHub/cvpinns/euler.ipynb#ch0000011?line=16'>17</a>\u001b[0m \u001b[39mfor\u001b[39;00m i \u001b[39min\u001b[39;00m \u001b[39mrange\u001b[39m(iters):\n\u001b[0;32m---> <a href='vscode-notebook-cell:/Users/pjuangph/Documents/GitHub/cvpinns/euler.ipynb#ch0000011?line=17'>18</a>\u001b[0m     GD()\n\u001b[1;32m     <a href='vscode-notebook-cell:/Users/pjuangph/Documents/GitHub/cvpinns/euler.ipynb#ch0000011?line=18'>19</a>\u001b[0m     \u001b[39mif\u001b[39;00m \u001b[39mnot\u001b[39;00m(i\u001b[39m%\u001b[39m\u001b[39m100\u001b[39m):\n\u001b[1;32m     <a href='vscode-notebook-cell:/Users/pjuangph/Documents/GitHub/cvpinns/euler.ipynb#ch0000011?line=19'>20</a>\u001b[0m         \u001b[39mprint\u001b[39m(\u001b[39m'\u001b[39m\u001b[39miter:\u001b[39m\u001b[39m'\u001b[39m,i,\u001b[39m'\u001b[39m\u001b[39mLoss:\u001b[39m\u001b[39m'\u001b[39m,getLoss()\u001b[39m.\u001b[39mnumpy())\n",
      "File \u001b[0;32m/opt/homebrew/Caskroom/miniforge/base/lib/python3.9/site-packages/tensorflow/python/util/traceback_utils.py:153\u001b[0m, in \u001b[0;36mfilter_traceback.<locals>.error_handler\u001b[0;34m(*args, **kwargs)\u001b[0m\n\u001b[1;32m    <a href='file:///opt/homebrew/Caskroom/miniforge/base/lib/python3.9/site-packages/tensorflow/python/util/traceback_utils.py?line=150'>151</a>\u001b[0m \u001b[39mexcept\u001b[39;00m \u001b[39mException\u001b[39;00m \u001b[39mas\u001b[39;00m e:\n\u001b[1;32m    <a href='file:///opt/homebrew/Caskroom/miniforge/base/lib/python3.9/site-packages/tensorflow/python/util/traceback_utils.py?line=151'>152</a>\u001b[0m   filtered_tb \u001b[39m=\u001b[39m _process_traceback_frames(e\u001b[39m.\u001b[39m__traceback__)\n\u001b[0;32m--> <a href='file:///opt/homebrew/Caskroom/miniforge/base/lib/python3.9/site-packages/tensorflow/python/util/traceback_utils.py?line=152'>153</a>\u001b[0m   \u001b[39mraise\u001b[39;00m e\u001b[39m.\u001b[39mwith_traceback(filtered_tb) \u001b[39mfrom\u001b[39;00m \u001b[39mNone\u001b[39m\n\u001b[1;32m    <a href='file:///opt/homebrew/Caskroom/miniforge/base/lib/python3.9/site-packages/tensorflow/python/util/traceback_utils.py?line=153'>154</a>\u001b[0m \u001b[39mfinally\u001b[39;00m:\n\u001b[1;32m    <a href='file:///opt/homebrew/Caskroom/miniforge/base/lib/python3.9/site-packages/tensorflow/python/util/traceback_utils.py?line=154'>155</a>\u001b[0m   \u001b[39mdel\u001b[39;00m filtered_tb\n",
      "File \u001b[0;32m/opt/homebrew/Caskroom/miniforge/base/lib/python3.9/site-packages/tensorflow/python/eager/execute.py:54\u001b[0m, in \u001b[0;36mquick_execute\u001b[0;34m(op_name, num_outputs, inputs, attrs, ctx, name)\u001b[0m\n\u001b[1;32m     <a href='file:///opt/homebrew/Caskroom/miniforge/base/lib/python3.9/site-packages/tensorflow/python/eager/execute.py?line=51'>52</a>\u001b[0m \u001b[39mtry\u001b[39;00m:\n\u001b[1;32m     <a href='file:///opt/homebrew/Caskroom/miniforge/base/lib/python3.9/site-packages/tensorflow/python/eager/execute.py?line=52'>53</a>\u001b[0m   ctx\u001b[39m.\u001b[39mensure_initialized()\n\u001b[0;32m---> <a href='file:///opt/homebrew/Caskroom/miniforge/base/lib/python3.9/site-packages/tensorflow/python/eager/execute.py?line=53'>54</a>\u001b[0m   tensors \u001b[39m=\u001b[39m pywrap_tfe\u001b[39m.\u001b[39mTFE_Py_Execute(ctx\u001b[39m.\u001b[39m_handle, device_name, op_name,\n\u001b[1;32m     <a href='file:///opt/homebrew/Caskroom/miniforge/base/lib/python3.9/site-packages/tensorflow/python/eager/execute.py?line=54'>55</a>\u001b[0m                                       inputs, attrs, num_outputs)\n\u001b[1;32m     <a href='file:///opt/homebrew/Caskroom/miniforge/base/lib/python3.9/site-packages/tensorflow/python/eager/execute.py?line=55'>56</a>\u001b[0m \u001b[39mexcept\u001b[39;00m core\u001b[39m.\u001b[39m_NotOkStatusException \u001b[39mas\u001b[39;00m e:\n\u001b[1;32m     <a href='file:///opt/homebrew/Caskroom/miniforge/base/lib/python3.9/site-packages/tensorflow/python/eager/execute.py?line=56'>57</a>\u001b[0m   \u001b[39mif\u001b[39;00m name \u001b[39mis\u001b[39;00m \u001b[39mnot\u001b[39;00m \u001b[39mNone\u001b[39;00m:\n",
      "\u001b[0;31mInvalidArgumentError\u001b[0m: Cannot assign a device for operation Adam/Adam/update/ResourceApplyAdam: Could not satisfy explicit device specification '/job:localhost/replica:0/task:0/device:GPU:0' because no supported kernel for GPU devices is available.\nColocation Debug Info:\nColocation group had the following types and supported devices: \nRoot Member(assigned_device_name_index_=2 requested_device_name_='/job:localhost/replica:0/task:0/device:GPU:0' assigned_device_name_='/job:localhost/replica:0/task:0/device:GPU:0' resource_device_name_='/job:localhost/replica:0/task:0/device:GPU:0' supported_device_types_=[CPU] possible_devices_=[]\nReadVariableOp: GPU CPU \nIdentity: GPU CPU \nResourceApplyAdam: CPU \n_Arg: GPU CPU \n\nColocation members, user-requested devices, and framework assigned devices, if any:\n  unknown_2 (_Arg)  framework assigned device=/job:localhost/replica:0/task:0/device:GPU:0\n  adam_adam_update_resourceapplyadam_m (_Arg)  framework assigned device=/job:localhost/replica:0/task:0/device:GPU:0\n  adam_adam_update_resourceapplyadam_v (_Arg)  framework assigned device=/job:localhost/replica:0/task:0/device:GPU:0\n  Adam/Adam/update/ResourceApplyAdam (ResourceApplyAdam) /job:localhost/replica:0/task:0/device:GPU:0\n  Func/StatefulPartitionedCall/input/_3 (Identity) /job:localhost/replica:0/task:0/device:GPU:0\n  StatefulPartitionedCall/sequential/dense/Tensordot/ReadVariableOp (ReadVariableOp) \n  Func/StatefulPartitionedCall/output/_720 (Identity) \n  Func/PartitionedCall/input/_1400 (Identity) \n  Func/StatefulPartitionedCall/StatefulPartitionedCall/input/_1437 (Identity) /job:localhost/replica:0/task:0/device:GPU:0\n  StatefulPartitionedCall/StatefulPartitionedCall/sequential/dense/Tensordot/ReadVariableOp (ReadVariableOp) \n  StatefulPartitionedCall/StatefulPartitionedCall/sequential/dense/Tensordot_1/ReadVariableOp (ReadVariableOp) \n  Func/StatefulPartitionedCall/StatefulPartitionedCall/output/_1711 (Identity) \n  Func/StatefulPartitionedCall/StatefulPartitionedCall/output/_1713 (Identity) \n  Func/StatefulPartitionedCall/StatefulPartitionedCall_1/input/_1728 (Identity) /job:localhost/replica:0/task:0/device:GPU:0\n  StatefulPartitionedCall/StatefulPartitionedCall_1/sequential/dense/Tensordot/ReadVariableOp (ReadVariableOp) \n  StatefulPartitionedCall/StatefulPartitionedCall_1/sequential/dense/Tensordot_1/ReadVariableOp (ReadVariableOp) \n  Func/StatefulPartitionedCall/StatefulPartitionedCall_1/output/_2005 (Identity) \n  Func/StatefulPartitionedCall/StatefulPartitionedCall_1/output/_2007 (Identity) \n  Func/StatefulPartitionedCall/StatefulPartitionedCall_2/input/_2010 (Identity) /job:localhost/replica:0/task:0/device:GPU:0\n  StatefulPartitionedCall/StatefulPartitionedCall_2/sequential/dense/Tensordot/ReadVariableOp (ReadVariableOp) \n  Func/StatefulPartitionedCall/StatefulPartitionedCall_2/output/_2059 (Identity) \n\nOp: ResourceApplyAdam\nNode attrs: use_locking=true, T=DT_DOUBLE, _class=[\"loc:@11378\"], use_nesterov=false\nRegistered kernels:\n  device='GPU'; T in [DT_FLOAT]\n  device='CPU'; T in [DT_HALF]\n  device='CPU'; T in [DT_BFLOAT16]\n  device='CPU'; T in [DT_FLOAT]\n  device='CPU'; T in [DT_DOUBLE]\n  device='CPU'; T in [DT_COMPLEX64]\n  device='CPU'; T in [DT_COMPLEX128]\n\n\t [[{{node Adam/Adam/update/ResourceApplyAdam}}]] [Op:__inference_GD_12358]"
     ]
    }
   ],
   "source": [
    "print('stage 1')\n",
    "train(1e-2,2000)\n",
    "print('\\nstage 2')\n",
    "train(1e-3,20000)\n",
    "print('\\nstage 3')\n",
    "train(1e-4,20000)"
   ]
  },
  {
   "cell_type": "code",
   "execution_count": null,
   "metadata": {},
   "outputs": [
    {
     "name": "stdout",
     "output_type": "stream",
     "text": [
      "WARNING:tensorflow:7 out of the last 10 calls to <function getrhoe at 0x7f90a042a5e0> triggered tf.function retracing. Tracing is expensive and the excessive number of tracings is likely due to passing python objects instead of tensors. Also, tf.function has experimental_relax_shapes=True option that relaxes argument shapes that can avoid unnecessary retracing. Please refer to https://www.tensorflow.org/tutorials/customization/performance#python_or_tensor_args and https://www.tensorflow.org/api_docs/python/tf/function for more details.\n",
      "WARNING:tensorflow:Model was constructed with shape (None, None, 2) for input Tensor(\"dense_9_input:0\", shape=(None, None, 2), dtype=float64), but it was called on an input with incompatible shape (4000, 2).\n"
     ]
    }
   ],
   "source": [
    "#solve euler equations with learned EOS via finite difference\n",
    "\n",
    "xfd = np.transpose(np.mgrid[0:0:1j,L[1][0]:L[1][1]:4000j],(1,2,0))\n",
    "dx_fd = xfd[:,1,1]-xfd[:,0,1]\n",
    "dt_fd = dx_fd/4\n",
    "def getFD():\n",
    "    ufd = IC(xfd)[0]\n",
    "    nu=1e-3\n",
    "    D = np.zeros((3,4000))\n",
    "    D[0]=-dt_fd*nu/dx_fd**2\n",
    "    D[1]=1+2*dt_fd*nu/dx_fd**2\n",
    "    D[2]=-dt_fd*nu/dx_fd**2\n",
    "\n",
    "    D[0,0:2]=0\n",
    "    D[1,0] = 1\n",
    "    D[1,-1] = 1\n",
    "    D[2,-2::]=0\n",
    "    Dj = np.copy(D)\n",
    "    Dj[0,1] = 0\n",
    "    def upd(ufd):        \n",
    "        ustar = np.zeros(ufd.shape)\n",
    "        unew = np.zeros(ufd.shape)\n",
    "        \n",
    "        F = F1(ufd)\n",
    "        \n",
    "        ustar[1:-1] = ufd[1:-1] - dt_fd/(2*dx_fd) * (F[2::]-F[0:-2]) \n",
    "        ustar[0] = Ul\n",
    "        ustar[-1] = Ur\n",
    "\n",
    "        unew[...,0] = scipy.linalg.solve_banded((1, 1), D, ustar[...,0])\n",
    "        unew[...,1] = scipy.linalg.solve_banded((1, 1), D, ustar[...,1])\n",
    "        unew[...,2] = scipy.linalg.solve_banded((1, 1), D, ustar[...,2])\n",
    "\n",
    "        return unew\n",
    "\n",
    "    \n",
    "    for i in range(int(L[0][1]/dt_fd)):\n",
    "        ufd = upd(ufd)\n",
    "\n",
    "    return ufd\n",
    "ufd = getFD()"
   ]
  },
  {
   "cell_type": "code",
   "execution_count": null,
   "metadata": {},
   "outputs": [
    {
     "data": {
      "text/plain": [
       "<matplotlib.legend.Legend at 0x7f90386ae820>"
      ]
     },
     "execution_count": 15,
     "metadata": {},
     "output_type": "execute_result"
    },
    {
     "data": {
      "image/png": "[encoded data removed]",
      "text/plain": [
       "<Figure size 432x720 with 3 Axes>"
      ]
     },
     "metadata": {
      "needs_background": "light"
     },
     "output_type": "display_data"
    }
   ],
   "source": [
    "#compare solution from learned EOS to data\n",
    "\n",
    "fig,ax = plt.subplots(3,figsize=(6,10),sharex=True)\n",
    "ax[0].plot(x_data[-1,:,1],u_data[-1,:,0])\n",
    "ax[0].plot(xfd[0,:,1],ufd[:,0])\n",
    "ax[1].plot(x_data[-1,:,1],u_data[-1,:,1])\n",
    "ax[1].plot(xfd[0,:,1],ufd[:,1])\n",
    "ax[2].plot(x_data[-1,:,1],u_data[-1,:,2],label='data')\n",
    "ax[2].plot(xfd[0,:,1],ufd[:,2],label='learned')\n",
    "ax[2].set_xlabel('x')\n",
    "ax[0].set_ylabel('rho')\n",
    "ax[1].set_ylabel('j')\n",
    "ax[2].set_ylabel('E')\n",
    "ax[2].legend()"
   ]
  }
 ],
 "metadata": {
  "kernelspec": {
   "display_name": "Python 3",
   "language": "python",
   "name": "python3"
  },
  "language_info": {
   "codemirror_mode": {
    "name": "ipython",
    "version": 3
   },
   "file_extension": ".py",
   "mimetype": "text/x-python",
   "name": "python",
   "nbconvert_exporter": "python",
   "pygments_lexer": "ipython3",
   "version": "3.9.10"
  }
 },
 "nbformat": 4,
 "nbformat_minor": 5
}
